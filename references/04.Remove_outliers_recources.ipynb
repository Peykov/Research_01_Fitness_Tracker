{
 "cells": [
  {
   "cell_type": "markdown",
   "metadata": {},
   "source": [
    "### Check whether there are any outliers (extreme values)\n",
    "\n",
    "## What are outliers?\n",
    "An outlier is an extreme value in a data set that is much higher or lower than the majority of the values in the data set. Outliers can be caused by errors in data entry, or extreme variations in the data that are not typical. They can also indicate a discrepancy between the data and the underlying population it represents.\n",
    "\n",
    "### Problems\n",
    "Some of the problems that outliers can introduce include skewing the results of statistical analyses, leading to incorrect conclusions about patterns in the data. Outliers can also lead to false interpretations of trends in the data, masking any underlying relationships among the variables. Additionally, outliers can increase the variability in the data, making it more difficult to identify significant patterns or relationships.\n",
    "\n",
    "### Implications on machine learning models\n",
    "The implications of outliers on machine learning models depend on the type of model being used. Generally speaking, outlier values can have a negative impact on model accuracy and performance. This is because outliers can cause machine learning algorithms to **overfit the data** , which can lead to poor generalization of the model. Additionally, outliers can **bias the model** parameters towards the outliers, resulting in inaccurate predictions.\n",
    "\n",
    "Removing outliers is often necessary in order to improve the accuracy of machine learning models. In some cases, removing outliers can even reduce the computational time required to train the model. Additionally, it is important to monitor for outliers in the data at all times, as these can signal a problem with the data or the underlying process the data represents.\n",
    "\n",
    "### Types of outliers\n",
    "• Global\n",
    "\n",
    "• Collective\n",
    "\n",
    "• Contextual Outliers\n",
    "\n",
    "![Alt text](img/image.png) ![Alt text](img/image-1.png) ![Alt text](img/image-2.png)\n",
    "\n",
    "### https://www.geeksforgeeks.org/types-of-outliers-in-data-mining/"
   ]
  },
  {
   "cell_type": "markdown",
   "metadata": {},
   "source": [
    "## Boxplot\n",
    "\n",
    "A box plot is a method for graphically depicting groups of numerical data through their quartiles. The box extends from the Q1 to Q3 quartile values of the data, with a line at the median (Q2). The whiskers extend from the edges of box to show the range of the data. By default, they extend no more than 1.5 * IQR (IQR = Q3 - Q1) from the edges of the box, ending at the farthest data point within that interval. Outliers are plotted as separate dots.\n",
    "\n",
    "![Alt text](img/image-3.png)\n"
   ]
  },
  {
   "cell_type": "markdown",
   "metadata": {},
   "source": [
    " ### Chauvenet’s Criterion\n",
    "\n",
    "Chauvenet's criterion is a specific method for detecting outliers in data. It is based on the idea that, for a given dataset, the probability of an outlier occurring is relatively low. Chauvenet's criterion can be useful in certain situations, such as when you want to identify outliers in data that follows a normal distribution. However, it is not necessarily the best method for detecting outliers in all cases, and there are other methods that may be more appropriate in certain situations.\n",
    "\n",
    "According to Chauvenet’s criterion we reject a measurement (outlier) from a dataset of size N when it’s probability of observation is less than 1/2N. A generalization is to replace the value 2 with a parameter C.\n",
    "\n",
    "It's important to note that Chauvenet's criterion is only applicable to datasets that are normally distributed. "
   ]
  },
  {
   "cell_type": "markdown",
   "metadata": {},
   "source": []
  },
  {
   "cell_type": "markdown",
   "metadata": {},
   "source": [
    "### LOF (Local Outlier Factor) k-nearest neighbors based\n",
    "\n",
    "Unsupervised Outlier Detection \n",
    "\n",
    "The anomaly score of each sample is called the Local Outlier Factor. It measures the local deviation of the density of a given sample with respect to its neighbors. It is local in that the anomaly score depends on how isolated the object is with respect to the surrounding neighborhood. More precisely, locality is given by k-nearest neighbors, whose distance is used to estimate the local density. By comparing the local density of a sample to the local densities of its neighbors, one can identify samples that have a substantially lower density than their neighbors. These are considered outliers.\n",
    "\n",
    "![Alt text](img/image-4.png)"
   ]
  },
  {
   "cell_type": "markdown",
   "metadata": {},
   "source": []
  },
  {
   "cell_type": "code",
   "execution_count": null,
   "metadata": {},
   "outputs": [],
   "source": []
  }
 ],
 "metadata": {
  "language_info": {
   "name": "python"
  },
  "orig_nbformat": 4
 },
 "nbformat": 4,
 "nbformat_minor": 2
}
