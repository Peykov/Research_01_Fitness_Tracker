{
 "cells": [
  {
   "cell_type": "markdown",
   "metadata": {},
   "source": [
    "# ML Research Project : Fitness tracker \n",
    "\n",
    "### Introduction\n",
    "\n",
    "Create Python scripts to process, visualize, and model accelerometer and gyroscope data to create a machine learning model that can classify barbell exercises and count repetitions\n",
    "\n",
    "Based on: \n",
    "- Project from Master Artificial Intelligence (Vrije Universiteit Amsterdam) of Dave Ebbelaar https://www.daveebbelaar.com/resume\n",
    "\n",
    "- Course — Machine Learning for the Quantified Self (Mark Hoogendoorn)\n",
    "\n",
    "- Book — https://link.springer.com/book/10.1007/978-3-319-66308-1\n",
    "\n",
    "- Website — https://ml4qs.org\n",
    "\n",
    "- MetaMotion Sensor — https://mbientlab.com/metamotions/\n",
    "\n",
    "- Data — collected during gym workouts by 5 participants performing various barbell exercises\n",
    "\n",
    "- Original source code: https://github.com/mhoogen/ML4QS/"
   ]
  },
  {
   "cell_type": "markdown",
   "metadata": {},
   "source": [
    "####  The quantified self\n",
    "- The quantified self is any individual engaged in the self-tracking of any kind of biological, physical, behavioral, or environmental information. The self-tracking is driven by a certain goal of the individual, with a desire to act upon the collected information — Hoogendoorn, M., & Funk, B. (2018). Machine learning for the quantified self. On the art of learning from sensory data."
   ]
  },
  {
   "cell_type": "markdown",
   "metadata": {},
   "source": []
  },
  {
   "cell_type": "markdown",
   "metadata": {},
   "source": []
  },
  {
   "cell_type": "code",
   "execution_count": 1,
   "metadata": {},
   "outputs": [],
   "source": [
    "import numpy as np"
   ]
  }
 ],
 "metadata": {
  "kernelspec": {
   "display_name": "Jupyter",
   "language": "python",
   "name": "python3"
  },
  "language_info": {
   "codemirror_mode": {
    "name": "ipython",
    "version": 3
   },
   "file_extension": ".py",
   "mimetype": "text/x-python",
   "name": "python",
   "nbconvert_exporter": "python",
   "pygments_lexer": "ipython3",
   "version": "3.10.8"
  },
  "orig_nbformat": 4
 },
 "nbformat": 4,
 "nbformat_minor": 2
}
